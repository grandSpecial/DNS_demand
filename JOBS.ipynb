{
 "cells": [
  {
   "cell_type": "code",
   "execution_count": 133,
   "metadata": {},
   "outputs": [
    {
     "name": "stdout",
     "output_type": "stream",
     "text": [
      "ready: https://opportunities.digitalnovascotia.com\n"
     ]
    }
   ],
   "source": [
    "from selenium.webdriver.support.ui import WebDriverWait\n",
    "from selenium.webdriver.firefox.options import Options\n",
    "from selenium.webdriver import Firefox\n",
    "from selenium.webdriver.common.by import By\n",
    "from selenium.webdriver.support import expected_conditions as EC\n",
    "\n",
    "import urllib.request\n",
    "from bs4 import BeautifulSoup\n",
    "import re\n",
    "import nltk\n",
    "from collections import Counter\n",
    "import datetime\n",
    "from tqdm import tqdm\n",
    "import time \n",
    "\n",
    "url = \"https://opportunities.digitalnovascotia.com\"\n",
    "options = Options()\n",
    "options.add_argument('-headless')\n",
    "driver = Firefox(executable_path='geckodriver', options=options)\n",
    "driver.get(url)\n",
    "print(f'ready: {url}')"
   ]
  },
  {
   "cell_type": "code",
   "execution_count": 134,
   "metadata": {},
   "outputs": [
    {
     "name": "stdout",
     "output_type": "stream",
     "text": [
      "Message: Element <a class=\"load_more_jobs\" href=\"#\"> could not be scrolled into view\n",
      "\n",
      "Done loading 19 pages\n",
      "365 total resumes\n"
     ]
    }
   ],
   "source": [
    "count = 1\n",
    "while True:\n",
    "    try:\n",
    "        driver.find_element_by_xpath('//*[@id=\"jobify_widget_jobs-2\"]/div/div/div/div/a').click()\n",
    "        time.sleep(2)\n",
    "        count += 1\n",
    "    except Exception as e:\n",
    "        print(e)\n",
    "        print(f'Done loading {count} pages')\n",
    "        break\n",
    "\n",
    "# create a list of the most recent jobs\n",
    "links = []\n",
    "soup = BeautifulSoup(driver.page_source, 'html.parser')\n",
    "for a in soup.find_all('a',{'href':re.compile('https://opportunities.digitalnovascotia.com/job/')}):\n",
    "    links.append(a['href'])\n",
    "print(f'{len(set(links))} total jobs')"
   ]
  },
  {
   "cell_type": "code",
   "execution_count": null,
   "metadata": {
    "collapsed": true
   },
   "outputs": [],
   "source": [
    "holding = []\n",
    "count = 1\n",
    "for line in tqdm(links):\n",
    "    pages = urllib.request.urlopen(line).read()\n",
    "    souper = BeautifulSoup(pages, 'lxml')\n",
    "\n",
    "    for script in souper([\"script\", \"style\"]):\n",
    "        script.replace_with(\" \")\n",
    "        script.decompose()\n",
    "\n",
    "    text = souper.get_text(\" \")\n",
    "\n",
    "    lines = (line.strip() for line in text.splitlines())\n",
    "    chunks = (phrase.strip() for line in lines for phrase in line.split(\"  \"))\n",
    "    text = \"  \".join(chunk for chunk in chunks if chunk)\n",
    "\n",
    "    holding.append(text)\n",
    "\n",
    "words = [s.lower().split() for s in holding if s]\n",
    "\n",
    "check = [\n",
    "    'javascript',\n",
    "    'python',\n",
    "    'java',\n",
    "    'golang',\n",
    "    'php',\n",
    "    'typescript',\n",
    "    'r',\n",
    "    'c#',\n",
    "    'scala',\n",
    "    'swift',\n",
    "    'c++',\n",
    "    'c',\n",
    "    'bash',\n",
    "    'elixir',\n",
    "    'kotlin',\n",
    "    'node',\n",
    "    'powershell',\n",
    "    'ruby',\n",
    "    'shell',\n",
    "    'ansible',\n",
    "    'css',\n",
    "    'erlang',\n",
    "    'glsl',\n",
    "    'groovy',\n",
    "    'haskell',\n",
    "    'html',\n",
    "    'jsx',\n",
    "    'objective-c',\n",
    "    'perl',\n",
    "    'pug',\n",
    "    'rust',\n",
    "    'sass',\n",
    "    'spark',\n",
    "    'sql',\n",
    "    'stan',\n",
    "    'vba'\n",
    "]\n",
    "\n",
    "frequency = {}\n",
    "for c in check:\n",
    "    count = 1\n",
    "    for w in words:\n",
    "        if c in w:\n",
    "            frequency[c] = count\n",
    "            count += 1\n",
    "frequency_sum = sum([i[1] for i in frequency.items()])\n",
    "ud = {}\n",
    "for i in frequency.items():\n",
    "    ud[i[0]] = round(i[1]/frequency_sum, 2)"
   ]
  }
 ],
 "metadata": {
  "kernelspec": {
   "display_name": "Python 3",
   "language": "python",
   "name": "python3"
  },
  "language_info": {
   "codemirror_mode": {
    "name": "ipython",
    "version": 3
   },
   "file_extension": ".py",
   "mimetype": "text/x-python",
   "name": "python",
   "nbconvert_exporter": "python",
   "pygments_lexer": "ipython3",
   "version": "3.6.3"
  }
 },
 "nbformat": 4,
 "nbformat_minor": 2
}
